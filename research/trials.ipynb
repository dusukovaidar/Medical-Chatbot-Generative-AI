{
 "cells": [
  {
   "cell_type": "code",
   "execution_count": 1,
   "metadata": {},
   "outputs": [
    {
     "data": {
      "text/plain": [
       "'c:\\\\Users\\\\a.dusukov\\\\Desktop\\\\chatbot\\\\Medical-Chatbot-Generative-AI\\\\research'"
      ]
     },
     "execution_count": 1,
     "metadata": {},
     "output_type": "execute_result"
    }
   ],
   "source": [
    "%pwd"
   ]
  },
  {
   "cell_type": "code",
   "execution_count": 2,
   "metadata": {},
   "outputs": [],
   "source": [
    "import os\n",
    "os.chdir(\"../\")"
   ]
  },
  {
   "cell_type": "code",
   "execution_count": 3,
   "metadata": {},
   "outputs": [
    {
     "data": {
      "text/plain": [
       "'c:\\\\Users\\\\a.dusukov\\\\Desktop\\\\chatbot\\\\Medical-Chatbot-Generative-AI'"
      ]
     },
     "execution_count": 3,
     "metadata": {},
     "output_type": "execute_result"
    }
   ],
   "source": [
    "%pwd"
   ]
  },
  {
   "cell_type": "code",
   "execution_count": 15,
   "metadata": {},
   "outputs": [
    {
     "name": "stdout",
     "output_type": "stream",
     "text": [
      "Requirement already satisfied: sentence-transformers in c:\\users\\a.dusukov\\appdata\\local\\anaconda3\\envs\\medibot\\lib\\site-packages (2.2.2)\n",
      "Collecting sentence-transformers\n",
      "  Using cached sentence_transformers-3.3.1-py3-none-any.whl.metadata (10 kB)\n",
      "Requirement already satisfied: transformers<5.0.0,>=4.41.0 in c:\\users\\a.dusukov\\appdata\\local\\anaconda3\\envs\\medibot\\lib\\site-packages (from sentence-transformers) (4.47.0)\n",
      "Requirement already satisfied: tqdm in c:\\users\\a.dusukov\\appdata\\local\\anaconda3\\envs\\medibot\\lib\\site-packages (from sentence-transformers) (4.67.1)\n",
      "Requirement already satisfied: torch>=1.11.0 in c:\\users\\a.dusukov\\appdata\\local\\anaconda3\\envs\\medibot\\lib\\site-packages (from sentence-transformers) (2.5.1)\n",
      "Requirement already satisfied: scikit-learn in c:\\users\\a.dusukov\\appdata\\local\\anaconda3\\envs\\medibot\\lib\\site-packages (from sentence-transformers) (1.6.0)\n",
      "Requirement already satisfied: scipy in c:\\users\\a.dusukov\\appdata\\local\\anaconda3\\envs\\medibot\\lib\\site-packages (from sentence-transformers) (1.14.1)\n",
      "Requirement already satisfied: huggingface-hub>=0.20.0 in c:\\users\\a.dusukov\\appdata\\local\\anaconda3\\envs\\medibot\\lib\\site-packages (from sentence-transformers) (0.26.5)\n",
      "Requirement already satisfied: Pillow in c:\\users\\a.dusukov\\appdata\\local\\anaconda3\\envs\\medibot\\lib\\site-packages (from sentence-transformers) (11.0.0)\n",
      "Requirement already satisfied: filelock in c:\\users\\a.dusukov\\appdata\\local\\anaconda3\\envs\\medibot\\lib\\site-packages (from huggingface-hub>=0.20.0->sentence-transformers) (3.16.1)\n",
      "Requirement already satisfied: fsspec>=2023.5.0 in c:\\users\\a.dusukov\\appdata\\local\\anaconda3\\envs\\medibot\\lib\\site-packages (from huggingface-hub>=0.20.0->sentence-transformers) (2024.10.0)\n",
      "Requirement already satisfied: packaging>=20.9 in c:\\users\\a.dusukov\\appdata\\local\\anaconda3\\envs\\medibot\\lib\\site-packages (from huggingface-hub>=0.20.0->sentence-transformers) (24.2)\n",
      "Requirement already satisfied: pyyaml>=5.1 in c:\\users\\a.dusukov\\appdata\\local\\anaconda3\\envs\\medibot\\lib\\site-packages (from huggingface-hub>=0.20.0->sentence-transformers) (6.0.2)\n",
      "Requirement already satisfied: requests in c:\\users\\a.dusukov\\appdata\\local\\anaconda3\\envs\\medibot\\lib\\site-packages (from huggingface-hub>=0.20.0->sentence-transformers) (2.32.3)\n",
      "Requirement already satisfied: typing-extensions>=3.7.4.3 in c:\\users\\a.dusukov\\appdata\\local\\anaconda3\\envs\\medibot\\lib\\site-packages (from huggingface-hub>=0.20.0->sentence-transformers) (4.12.2)\n",
      "Requirement already satisfied: networkx in c:\\users\\a.dusukov\\appdata\\local\\anaconda3\\envs\\medibot\\lib\\site-packages (from torch>=1.11.0->sentence-transformers) (3.4.2)\n",
      "Requirement already satisfied: jinja2 in c:\\users\\a.dusukov\\appdata\\local\\anaconda3\\envs\\medibot\\lib\\site-packages (from torch>=1.11.0->sentence-transformers) (3.1.4)\n",
      "Requirement already satisfied: sympy==1.13.1 in c:\\users\\a.dusukov\\appdata\\local\\anaconda3\\envs\\medibot\\lib\\site-packages (from torch>=1.11.0->sentence-transformers) (1.13.1)\n",
      "Requirement already satisfied: mpmath<1.4,>=1.1.0 in c:\\users\\a.dusukov\\appdata\\local\\anaconda3\\envs\\medibot\\lib\\site-packages (from sympy==1.13.1->torch>=1.11.0->sentence-transformers) (1.3.0)\n",
      "Requirement already satisfied: colorama in c:\\users\\a.dusukov\\appdata\\local\\anaconda3\\envs\\medibot\\lib\\site-packages (from tqdm->sentence-transformers) (0.4.6)\n",
      "Requirement already satisfied: numpy>=1.17 in c:\\users\\a.dusukov\\appdata\\local\\anaconda3\\envs\\medibot\\lib\\site-packages (from transformers<5.0.0,>=4.41.0->sentence-transformers) (1.26.4)\n",
      "Requirement already satisfied: regex!=2019.12.17 in c:\\users\\a.dusukov\\appdata\\local\\anaconda3\\envs\\medibot\\lib\\site-packages (from transformers<5.0.0,>=4.41.0->sentence-transformers) (2024.11.6)\n",
      "Requirement already satisfied: tokenizers<0.22,>=0.21 in c:\\users\\a.dusukov\\appdata\\local\\anaconda3\\envs\\medibot\\lib\\site-packages (from transformers<5.0.0,>=4.41.0->sentence-transformers) (0.21.0)\n",
      "Requirement already satisfied: safetensors>=0.4.1 in c:\\users\\a.dusukov\\appdata\\local\\anaconda3\\envs\\medibot\\lib\\site-packages (from transformers<5.0.0,>=4.41.0->sentence-transformers) (0.4.5)\n",
      "Requirement already satisfied: joblib>=1.2.0 in c:\\users\\a.dusukov\\appdata\\local\\anaconda3\\envs\\medibot\\lib\\site-packages (from scikit-learn->sentence-transformers) (1.4.2)\n",
      "Requirement already satisfied: threadpoolctl>=3.1.0 in c:\\users\\a.dusukov\\appdata\\local\\anaconda3\\envs\\medibot\\lib\\site-packages (from scikit-learn->sentence-transformers) (3.5.0)\n",
      "Requirement already satisfied: MarkupSafe>=2.0 in c:\\users\\a.dusukov\\appdata\\local\\anaconda3\\envs\\medibot\\lib\\site-packages (from jinja2->torch>=1.11.0->sentence-transformers) (3.0.2)\n",
      "Requirement already satisfied: charset-normalizer<4,>=2 in c:\\users\\a.dusukov\\appdata\\local\\anaconda3\\envs\\medibot\\lib\\site-packages (from requests->huggingface-hub>=0.20.0->sentence-transformers) (3.4.0)\n",
      "Requirement already satisfied: idna<4,>=2.5 in c:\\users\\a.dusukov\\appdata\\local\\anaconda3\\envs\\medibot\\lib\\site-packages (from requests->huggingface-hub>=0.20.0->sentence-transformers) (3.10)\n",
      "Requirement already satisfied: urllib3<3,>=1.21.1 in c:\\users\\a.dusukov\\appdata\\local\\anaconda3\\envs\\medibot\\lib\\site-packages (from requests->huggingface-hub>=0.20.0->sentence-transformers) (2.2.3)\n",
      "Requirement already satisfied: certifi>=2017.4.17 in c:\\users\\a.dusukov\\appdata\\local\\anaconda3\\envs\\medibot\\lib\\site-packages (from requests->huggingface-hub>=0.20.0->sentence-transformers) (2024.12.14)\n",
      "Using cached sentence_transformers-3.3.1-py3-none-any.whl (268 kB)\n",
      "Installing collected packages: sentence-transformers\n",
      "  Attempting uninstall: sentence-transformers\n",
      "    Found existing installation: sentence-transformers 2.2.2\n",
      "    Uninstalling sentence-transformers-2.2.2:\n",
      "      Successfully uninstalled sentence-transformers-2.2.2\n",
      "Successfully installed sentence-transformers-3.3.1\n",
      "Note: you may need to restart the kernel to use updated packages.\n"
     ]
    }
   ],
   "source": [
    "pip install --upgrade sentence-transformers"
   ]
  },
  {
   "cell_type": "code",
   "execution_count": 5,
   "metadata": {},
   "outputs": [],
   "source": [
    "from langchain.document_loaders import PyPDFLoader, DirectoryLoader\n",
    "from langchain.text_splitter import RecursiveCharacterTextSplitter"
   ]
  },
  {
   "cell_type": "code",
   "execution_count": 6,
   "metadata": {},
   "outputs": [],
   "source": [
    "def load_pdf_file(data):\n",
    "    loader = DirectoryLoader(data,\n",
    "                             glob=\"*.pdf\",\n",
    "                             loader_cls = PyPDFLoader)\n",
    "    documents = loader.load()\n",
    "\n",
    "    return documents"
   ]
  },
  {
   "cell_type": "code",
   "execution_count": 7,
   "metadata": {},
   "outputs": [],
   "source": [
    "extracted_data = load_pdf_file(data = 'Data/')"
   ]
  },
  {
   "cell_type": "code",
   "execution_count": 8,
   "metadata": {},
   "outputs": [
    {
     "name": "stdout",
     "output_type": "stream",
     "text": [
      "page_content='The GALE\n",
      "ENCYCLOPEDIA\n",
      "of MEDICINE\n",
      "SECOND EDITION\n",
      "JACQUELINE L. LONGE, EDITOR\n",
      "DEIRDRE S. BLANCHFIELD, ASSOCIATE EDITOR\n",
      "VOLUME\n",
      "A-B\n",
      "1' metadata={'source': 'Data\\\\Medical_book.pdf', 'page': 2}\n"
     ]
    }
   ],
   "source": [
    "print(extracted_data[2])"
   ]
  },
  {
   "cell_type": "code",
   "execution_count": 9,
   "metadata": {},
   "outputs": [],
   "source": [
    "def text_split(extracted_data):\n",
    "    text_splitter = RecursiveCharacterTextSplitter(chunk_size = 500, chunk_overlap = 20)\n",
    "    text_chunks = text_splitter.split_documents(extracted_data)\n",
    "    return text_chunks"
   ]
  },
  {
   "cell_type": "code",
   "execution_count": 10,
   "metadata": {},
   "outputs": [
    {
     "name": "stdout",
     "output_type": "stream",
     "text": [
      "5860\n"
     ]
    }
   ],
   "source": [
    "text_chunks = text_split(extracted_data)\n",
    "print(len(text_chunks))"
   ]
  },
  {
   "cell_type": "code",
   "execution_count": 11,
   "metadata": {},
   "outputs": [],
   "source": [
    "from langchain.embeddings import HuggingFaceEmbeddings"
   ]
  },
  {
   "cell_type": "code",
   "execution_count": 12,
   "metadata": {},
   "outputs": [],
   "source": [
    "def download_hugging_face_embeddings():\n",
    "    embeddings = HuggingFaceEmbeddings(model_name = \"sentence-transformers/all-MiniLM-L6-v2\")\n",
    "    return embeddings"
   ]
  },
  {
   "cell_type": "code",
   "execution_count": 16,
   "metadata": {},
   "outputs": [
    {
     "name": "stderr",
     "output_type": "stream",
     "text": [
      "c:\\Users\\a.dusukov\\AppData\\Local\\anaconda3\\envs\\medibot\\lib\\site-packages\\huggingface_hub\\file_download.py:139: UserWarning: `huggingface_hub` cache-system uses symlinks by default to efficiently store duplicated files but your machine does not support them in C:\\Users\\a.dusukov\\.cache\\huggingface\\hub\\models--sentence-transformers--all-MiniLM-L6-v2. Caching files will still work but in a degraded version that might require more space on your disk. This warning can be disabled by setting the `HF_HUB_DISABLE_SYMLINKS_WARNING` environment variable. For more details, see https://huggingface.co/docs/huggingface_hub/how-to-cache#limitations.\n",
      "To support symlinks on Windows, you either need to activate Developer Mode or to run Python as an administrator. In order to activate developer mode, see this article: https://docs.microsoft.com/en-us/windows/apps/get-started/enable-your-device-for-development\n",
      "  warnings.warn(message)\n"
     ]
    }
   ],
   "source": [
    "embeddings = download_hugging_face_embeddings()"
   ]
  },
  {
   "cell_type": "code",
   "execution_count": 19,
   "metadata": {},
   "outputs": [
    {
     "name": "stdout",
     "output_type": "stream",
     "text": [
      "Sentence Transformers package imported successfully!\n"
     ]
    }
   ],
   "source": [
    "from sentence_transformers import SentenceTransformer\n",
    "print(\"Sentence Transformers package imported successfully!\")"
   ]
  },
  {
   "cell_type": "code",
   "execution_count": 20,
   "metadata": {},
   "outputs": [
    {
     "name": "stdout",
     "output_type": "stream",
     "text": [
      "384\n"
     ]
    }
   ],
   "source": [
    "query_result = embeddings.embed_query(\"Hi there!\")\n",
    "print(len(query_result))"
   ]
  },
  {
   "cell_type": "code",
   "execution_count": 21,
   "metadata": {},
   "outputs": [
    {
     "data": {
      "text/plain": [
       "[-0.09151123464107513,\n",
       " 0.02514786832034588,\n",
       " 0.0020471480675041676,\n",
       " 0.00518106808885932,\n",
       " -0.015277120284736156]"
      ]
     },
     "execution_count": 21,
     "metadata": {},
     "output_type": "execute_result"
    }
   ],
   "source": [
    "query_result[:5]"
   ]
  },
  {
   "cell_type": "code",
   "execution_count": 46,
   "metadata": {},
   "outputs": [
    {
     "data": {
      "text/plain": [
       "True"
      ]
     },
     "execution_count": 46,
     "metadata": {},
     "output_type": "execute_result"
    }
   ],
   "source": [
    "from dotenv import load_dotenv\n",
    "load_dotenv()"
   ]
  },
  {
   "cell_type": "code",
   "execution_count": 47,
   "metadata": {},
   "outputs": [],
   "source": [
    "PINECONE_API_KEY = os.environ.get(\"PINECONE_API_KEY\")\n",
    "OPENAI_API_KEY = os.environ.get(\"OPENAI_API_KEY\")"
   ]
  },
  {
   "cell_type": "code",
   "execution_count": 26,
   "metadata": {},
   "outputs": [],
   "source": [
    "from pinecone.grpc import PineconeGRPC as Pinecone\n",
    "from pinecone import ServerlessSpec\n",
    "\n",
    "pc = Pinecone(api_key = PINECONE_API_KEY)\n",
    "\n",
    "index_name = \"medicalbot\"\n",
    "\n",
    "pc.create_index(\n",
    "    name = index_name,\n",
    "    dimension = 384,\n",
    "    metric = \"cosine\",\n",
    "    spec = ServerlessSpec(\n",
    "        cloud = \"aws\",\n",
    "        region = \"us-east-1\"\n",
    "    )\n",
    ")"
   ]
  },
  {
   "cell_type": "code",
   "execution_count": 48,
   "metadata": {},
   "outputs": [],
   "source": [
    "import os\n",
    "os.environ[\"PINECONE_API_KEY\"] = PINECONE_API_KEY\n",
    "os.environ[\"OPENAI_API_KEY\"] = OPENAI_API_KEY"
   ]
  },
  {
   "cell_type": "code",
   "execution_count": 29,
   "metadata": {},
   "outputs": [
    {
     "name": "stdout",
     "output_type": "stream",
     "text": [
      "Requirement already satisfied: pinecone-client in c:\\users\\a.dusukov\\appdata\\local\\anaconda3\\envs\\medibot\\lib\\site-packages (3.2.2)\n",
      "Requirement already satisfied: langchain[pinecone] in c:\\users\\a.dusukov\\appdata\\local\\anaconda3\\envs\\medibot\\lib\\site-packages (0.3.12)\n",
      "Requirement already satisfied: PyYAML>=5.3 in c:\\users\\a.dusukov\\appdata\\local\\anaconda3\\envs\\medibot\\lib\\site-packages (from langchain[pinecone]) (6.0.2)\n",
      "Requirement already satisfied: SQLAlchemy<3,>=1.4 in c:\\users\\a.dusukov\\appdata\\local\\anaconda3\\envs\\medibot\\lib\\site-packages (from langchain[pinecone]) (2.0.36)\n",
      "Requirement already satisfied: aiohttp<4.0.0,>=3.8.3 in c:\\users\\a.dusukov\\appdata\\local\\anaconda3\\envs\\medibot\\lib\\site-packages (from langchain[pinecone]) (3.11.10)\n",
      "Requirement already satisfied: async-timeout<5.0.0,>=4.0.0 in c:\\users\\a.dusukov\\appdata\\local\\anaconda3\\envs\\medibot\\lib\\site-packages (from langchain[pinecone]) (4.0.3)\n",
      "Requirement already satisfied: langchain-core<0.4.0,>=0.3.25 in c:\\users\\a.dusukov\\appdata\\local\\anaconda3\\envs\\medibot\\lib\\site-packages (from langchain[pinecone]) (0.3.25)\n",
      "Requirement already satisfied: langchain-text-splitters<0.4.0,>=0.3.3 in c:\\users\\a.dusukov\\appdata\\local\\anaconda3\\envs\\medibot\\lib\\site-packages (from langchain[pinecone]) (0.3.3)\n",
      "Requirement already satisfied: langsmith<0.3,>=0.1.17 in c:\\users\\a.dusukov\\appdata\\local\\anaconda3\\envs\\medibot\\lib\\site-packages (from langchain[pinecone]) (0.2.3)\n",
      "Requirement already satisfied: numpy<2,>=1.22.4 in c:\\users\\a.dusukov\\appdata\\local\\anaconda3\\envs\\medibot\\lib\\site-packages (from langchain[pinecone]) (1.26.4)\n",
      "Requirement already satisfied: pydantic<3.0.0,>=2.7.4 in c:\\users\\a.dusukov\\appdata\\local\\anaconda3\\envs\\medibot\\lib\\site-packages (from langchain[pinecone]) (2.10.3)\n",
      "Requirement already satisfied: requests<3,>=2 in c:\\users\\a.dusukov\\appdata\\local\\anaconda3\\envs\\medibot\\lib\\site-packages (from langchain[pinecone]) (2.32.3)\n",
      "Requirement already satisfied: tenacity!=8.4.0,<10,>=8.1.0 in c:\\users\\a.dusukov\\appdata\\local\\anaconda3\\envs\\medibot\\lib\\site-packages (from langchain[pinecone]) (9.0.0)\n",
      "Requirement already satisfied: certifi>=2019.11.17 in c:\\users\\a.dusukov\\appdata\\local\\anaconda3\\envs\\medibot\\lib\\site-packages (from pinecone-client) (2024.12.14)\n",
      "Requirement already satisfied: tqdm>=4.64.1 in c:\\users\\a.dusukov\\appdata\\local\\anaconda3\\envs\\medibot\\lib\\site-packages (from pinecone-client) (4.67.1)\n",
      "Requirement already satisfied: typing-extensions>=3.7.4 in c:\\users\\a.dusukov\\appdata\\local\\anaconda3\\envs\\medibot\\lib\\site-packages (from pinecone-client) (4.12.2)\n",
      "Requirement already satisfied: urllib3>=1.26.0 in c:\\users\\a.dusukov\\appdata\\local\\anaconda3\\envs\\medibot\\lib\\site-packages (from pinecone-client) (2.2.3)\n",
      "Requirement already satisfied: aiohappyeyeballs>=2.3.0 in c:\\users\\a.dusukov\\appdata\\local\\anaconda3\\envs\\medibot\\lib\\site-packages (from aiohttp<4.0.0,>=3.8.3->langchain[pinecone]) (2.4.4)\n",
      "Requirement already satisfied: aiosignal>=1.1.2 in c:\\users\\a.dusukov\\appdata\\local\\anaconda3\\envs\\medibot\\lib\\site-packages (from aiohttp<4.0.0,>=3.8.3->langchain[pinecone]) (1.3.2)\n",
      "Requirement already satisfied: attrs>=17.3.0 in c:\\users\\a.dusukov\\appdata\\local\\anaconda3\\envs\\medibot\\lib\\site-packages (from aiohttp<4.0.0,>=3.8.3->langchain[pinecone]) (24.2.0)\n",
      "Requirement already satisfied: frozenlist>=1.1.1 in c:\\users\\a.dusukov\\appdata\\local\\anaconda3\\envs\\medibot\\lib\\site-packages (from aiohttp<4.0.0,>=3.8.3->langchain[pinecone]) (1.5.0)\n",
      "Requirement already satisfied: multidict<7.0,>=4.5 in c:\\users\\a.dusukov\\appdata\\local\\anaconda3\\envs\\medibot\\lib\\site-packages (from aiohttp<4.0.0,>=3.8.3->langchain[pinecone]) (6.1.0)\n",
      "Requirement already satisfied: propcache>=0.2.0 in c:\\users\\a.dusukov\\appdata\\local\\anaconda3\\envs\\medibot\\lib\\site-packages (from aiohttp<4.0.0,>=3.8.3->langchain[pinecone]) (0.2.1)\n",
      "Requirement already satisfied: yarl<2.0,>=1.17.0 in c:\\users\\a.dusukov\\appdata\\local\\anaconda3\\envs\\medibot\\lib\\site-packages (from aiohttp<4.0.0,>=3.8.3->langchain[pinecone]) (1.18.3)\n",
      "Requirement already satisfied: jsonpatch<2.0,>=1.33 in c:\\users\\a.dusukov\\appdata\\local\\anaconda3\\envs\\medibot\\lib\\site-packages (from langchain-core<0.4.0,>=0.3.25->langchain[pinecone]) (1.33)\n",
      "Requirement already satisfied: packaging<25,>=23.2 in c:\\users\\a.dusukov\\appdata\\local\\anaconda3\\envs\\medibot\\lib\\site-packages (from langchain-core<0.4.0,>=0.3.25->langchain[pinecone]) (24.2)\n",
      "Requirement already satisfied: httpx<1,>=0.23.0 in c:\\users\\a.dusukov\\appdata\\local\\anaconda3\\envs\\medibot\\lib\\site-packages (from langsmith<0.3,>=0.1.17->langchain[pinecone]) (0.28.1)\n",
      "Requirement already satisfied: orjson<4.0.0,>=3.9.14 in c:\\users\\a.dusukov\\appdata\\local\\anaconda3\\envs\\medibot\\lib\\site-packages (from langsmith<0.3,>=0.1.17->langchain[pinecone]) (3.10.12)\n",
      "Requirement already satisfied: requests-toolbelt<2.0.0,>=1.0.0 in c:\\users\\a.dusukov\\appdata\\local\\anaconda3\\envs\\medibot\\lib\\site-packages (from langsmith<0.3,>=0.1.17->langchain[pinecone]) (1.0.0)\n",
      "Requirement already satisfied: annotated-types>=0.6.0 in c:\\users\\a.dusukov\\appdata\\local\\anaconda3\\envs\\medibot\\lib\\site-packages (from pydantic<3.0.0,>=2.7.4->langchain[pinecone]) (0.7.0)\n",
      "Requirement already satisfied: pydantic-core==2.27.1 in c:\\users\\a.dusukov\\appdata\\local\\anaconda3\\envs\\medibot\\lib\\site-packages (from pydantic<3.0.0,>=2.7.4->langchain[pinecone]) (2.27.1)\n",
      "Requirement already satisfied: charset-normalizer<4,>=2 in c:\\users\\a.dusukov\\appdata\\local\\anaconda3\\envs\\medibot\\lib\\site-packages (from requests<3,>=2->langchain[pinecone]) (3.4.0)\n",
      "Requirement already satisfied: idna<4,>=2.5 in c:\\users\\a.dusukov\\appdata\\local\\anaconda3\\envs\\medibot\\lib\\site-packages (from requests<3,>=2->langchain[pinecone]) (3.10)\n",
      "Requirement already satisfied: greenlet!=0.4.17 in c:\\users\\a.dusukov\\appdata\\local\\anaconda3\\envs\\medibot\\lib\\site-packages (from SQLAlchemy<3,>=1.4->langchain[pinecone]) (3.1.1)\n",
      "Requirement already satisfied: colorama in c:\\users\\a.dusukov\\appdata\\local\\anaconda3\\envs\\medibot\\lib\\site-packages (from tqdm>=4.64.1->pinecone-client) (0.4.6)\n",
      "Requirement already satisfied: anyio in c:\\users\\a.dusukov\\appdata\\local\\anaconda3\\envs\\medibot\\lib\\site-packages (from httpx<1,>=0.23.0->langsmith<0.3,>=0.1.17->langchain[pinecone]) (4.7.0)\n",
      "Requirement already satisfied: httpcore==1.* in c:\\users\\a.dusukov\\appdata\\local\\anaconda3\\envs\\medibot\\lib\\site-packages (from httpx<1,>=0.23.0->langsmith<0.3,>=0.1.17->langchain[pinecone]) (1.0.7)\n",
      "Requirement already satisfied: h11<0.15,>=0.13 in c:\\users\\a.dusukov\\appdata\\local\\anaconda3\\envs\\medibot\\lib\\site-packages (from httpcore==1.*->httpx<1,>=0.23.0->langsmith<0.3,>=0.1.17->langchain[pinecone]) (0.14.0)\n",
      "Requirement already satisfied: jsonpointer>=1.9 in c:\\users\\a.dusukov\\appdata\\local\\anaconda3\\envs\\medibot\\lib\\site-packages (from jsonpatch<2.0,>=1.33->langchain-core<0.4.0,>=0.3.25->langchain[pinecone]) (3.0.0)\n",
      "Requirement already satisfied: exceptiongroup>=1.0.2 in c:\\users\\a.dusukov\\appdata\\local\\anaconda3\\envs\\medibot\\lib\\site-packages (from anyio->httpx<1,>=0.23.0->langsmith<0.3,>=0.1.17->langchain[pinecone]) (1.2.2)\n",
      "Requirement already satisfied: sniffio>=1.1 in c:\\users\\a.dusukov\\appdata\\local\\anaconda3\\envs\\medibot\\lib\\site-packages (from anyio->httpx<1,>=0.23.0->langsmith<0.3,>=0.1.17->langchain[pinecone]) (1.3.1)\n"
     ]
    },
    {
     "name": "stderr",
     "output_type": "stream",
     "text": [
      "WARNING: langchain 0.3.12 does not provide the extra 'pinecone'\n"
     ]
    }
   ],
   "source": [
    "!pip install langchain[pinecone] pinecone-client"
   ]
  },
  {
   "cell_type": "code",
   "execution_count": 31,
   "metadata": {},
   "outputs": [],
   "source": [
    "from langchain.vectorstores import Pinecone"
   ]
  },
  {
   "cell_type": "code",
   "execution_count": 35,
   "metadata": {},
   "outputs": [],
   "source": [
    "docsearch = Pinecone.from_documents(\n",
    "    documents = text_chunks,\n",
    "    index_name = index_name,\n",
    "    embedding = embeddings,\n",
    ")"
   ]
  },
  {
   "cell_type": "code",
   "execution_count": 36,
   "metadata": {},
   "outputs": [],
   "source": [
    "docsearch = Pinecone.from_existing_index(\n",
    "    index_name = index_name,\n",
    "    embedding = embeddings\n",
    ")"
   ]
  },
  {
   "cell_type": "code",
   "execution_count": 37,
   "metadata": {},
   "outputs": [
    {
     "data": {
      "text/plain": [
       "<langchain_community.vectorstores.pinecone.Pinecone at 0x17f93b2bc10>"
      ]
     },
     "execution_count": 37,
     "metadata": {},
     "output_type": "execute_result"
    }
   ],
   "source": [
    "docsearch"
   ]
  },
  {
   "cell_type": "code",
   "execution_count": 39,
   "metadata": {},
   "outputs": [],
   "source": [
    "retriever = docsearch.as_retriever(search_type = \"similarity\", search_kwargs = {\"k\": 3})"
   ]
  },
  {
   "cell_type": "code",
   "execution_count": 40,
   "metadata": {},
   "outputs": [],
   "source": [
    "retriever_docs = retriever.invoke(\"What is the reason of headache\")"
   ]
  },
  {
   "cell_type": "code",
   "execution_count": 42,
   "metadata": {},
   "outputs": [
    {
     "data": {
      "text/plain": [
       "[Document(metadata={'page': 302.0, 'source': 'Data\\\\Medical_book.pdf'}, page_content='Purpose\\nMigraine headaches usually cause a throbbing pain\\non one side of the head. Nausea, vomiting, dizziness ,\\nincreased sensitivity to light and sound, and other symp-\\ntoms may accompany the pain. The attacks may last for\\nseveral hours or for a day or more and may come as often\\nas several times a week. Some people who get migraine\\nheadaches have warning signals before the headaches\\nbegin, such as restlessness, tingling in an arm or leg, or'),\n",
       " Document(metadata={'page': 304.0, 'source': 'Data\\\\Medical_book.pdf'}, page_content='flashing lights, that some people have 10-30 min-\\nutes before a migraine attack.\\nInflammation —Pain, redness, swelling, and heat\\nthat usually develop in response to injury or illness.\\nTreatment You Need. New York, NY: The Guilford Press,\\n1995.\\nORGANIZATIONS\\nAmerican Council for Headache Education (ACHE). 19 Man-\\ntua Road, Mt. Royal, NJ 08061. (800) 255-2243. <http://\\nwww.achenet.org>.\\nNational Headache Foundation. 428 W. St. James Place, Chica-\\ngo, IL 60614. (800) 843-2256. <http://www.head'),\n",
       " Document(metadata={'page': 584.0, 'source': 'Data\\\\Medical_book.pdf'}, page_content='no evidence that head injury causes brain tumors, but\\nresearchers are trying to determine the relationship, if\\nany, between brain tumors and viruses, family history,\\nand long-term exposure to electromagnetic fields.\\nSymptoms do not usually appear until the tumor\\ngrows large enough to displace, damage, or destroy deli-\\ncate brain tissue. When that happens, the patient may\\nexperience:\\n• headaches that become increasingly painful and are\\nmost painful when lying down')]"
      ]
     },
     "execution_count": 42,
     "metadata": {},
     "output_type": "execute_result"
    }
   ],
   "source": [
    "retriever_docs"
   ]
  },
  {
   "cell_type": "code",
   "execution_count": 49,
   "metadata": {},
   "outputs": [],
   "source": [
    "from langchain_openai import OpenAI\n",
    "llm = OpenAI(temperature = 0.7, max_tokens = 500)"
   ]
  },
  {
   "cell_type": "code",
   "execution_count": 55,
   "metadata": {},
   "outputs": [],
   "source": [
    "from langchain.chains import create_retrieval_chain\n",
    "from langchain.chains.combine_documents import create_stuff_documents_chain\n",
    "from langchain_core.prompts import ChatPromptTemplate\n",
    "\n",
    "\n",
    "system_prompt = (\n",
    "    \"You are an assistant for question-answering tasks. \"\n",
    "    \"Use the following pieces of retrieved context to answer \"\n",
    "    \"the question. If you don't know the answer, say that \"\n",
    "    \"the question is not connected to the pfd files uploaded. Use three sentences maximum and keep the \"\n",
    "    \"answer concise.\"\n",
    "    \"\\n\\n\"\n",
    "    \"{context}\"\n",
    ")\n",
    "\n",
    "\n",
    "prompt = ChatPromptTemplate.from_messages(\n",
    "    [\n",
    "        (\"system\", system_prompt),\n",
    "        (\"human\", \"{input}\"),\n",
    "    ]\n",
    ")"
   ]
  },
  {
   "cell_type": "code",
   "execution_count": 56,
   "metadata": {},
   "outputs": [],
   "source": [
    "question_answer_chain = create_stuff_documents_chain(llm, prompt)\n",
    "rag_chain = create_retrieval_chain(retriever, question_answer_chain)"
   ]
  },
  {
   "cell_type": "code",
   "execution_count": 59,
   "metadata": {},
   "outputs": [
    {
     "name": "stdout",
     "output_type": "stream",
     "text": [
      "\n",
      "\n",
      "Yes, excessive or repeated doses of radiation can cause changes in other types of body tissue. However, for bone x-rays, the amount of radiation is small and the risk of harm is very low. The patient can immediately resume normal activities after the test and there is no pain or discomfort associated with it.\n"
     ]
    }
   ],
   "source": [
    "response = rag_chain.invoke({\"input\": \"Is there a limit of times X-rays can be apllied on a human body?\"})\n",
    "print(response[\"answer\"])"
   ]
  },
  {
   "cell_type": "code",
   "execution_count": null,
   "metadata": {},
   "outputs": [],
   "source": []
  }
 ],
 "metadata": {
  "kernelspec": {
   "display_name": "medibot",
   "language": "python",
   "name": "python3"
  },
  "language_info": {
   "codemirror_mode": {
    "name": "ipython",
    "version": 3
   },
   "file_extension": ".py",
   "mimetype": "text/x-python",
   "name": "python",
   "nbconvert_exporter": "python",
   "pygments_lexer": "ipython3",
   "version": "3.10.16"
  }
 },
 "nbformat": 4,
 "nbformat_minor": 2
}
